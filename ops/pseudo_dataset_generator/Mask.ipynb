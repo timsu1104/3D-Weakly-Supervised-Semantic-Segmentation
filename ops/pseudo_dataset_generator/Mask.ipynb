{
 "cells": [
  {
   "cell_type": "code",
   "execution_count": 1,
   "id": "3dcc850b",
   "metadata": {},
   "outputs": [],
   "source": [
    "from PIL import Image\n",
    "import numpy as np\n",
    "import os, shutil\n",
    "from os.path import split, splitext, exists, join\n",
    "from glob import glob\n",
    "from tqdm import tqdm\n",
    "from configs import cfg"
   ]
  },
  {
   "cell_type": "code",
   "execution_count": 2,
   "id": "66963a89",
   "metadata": {},
   "outputs": [
    {
     "name": "stdout",
     "output_type": "stream",
     "text": [
      "../../dataset/pseudo_images/cabinet_picture_with_white_bg/clean\n",
      "../../dataset/pseudo_images/cabinet_picture_with_white_bg/mask\n",
      "../../dataset/pseudo_images/cabinet_picture_with_white_bg\n"
     ]
    }
   ],
   "source": [
    "Output_path = cfg.Output_path\n",
    "\n",
    "input_dataset = os.path.join(Output_path, \"clean\")\n",
    "output_dataset = os.path.join(Output_path, \"mask\")\n",
    "print(input_dataset)\n",
    "print(output_dataset)\n",
    "print(Output_path)"
   ]
  },
  {
   "cell_type": "code",
   "execution_count": 3,
   "id": "3c343a77",
   "metadata": {},
   "outputs": [],
   "source": [
    "if exists(output_dataset):\n",
    "    shutil.rmtree(output_dataset)\n",
    "os.mkdir(output_dataset)"
   ]
  },
  {
   "cell_type": "code",
   "execution_count": 6,
   "id": "1131f3fa",
   "metadata": {},
   "outputs": [
    {
     "name": "stderr",
     "output_type": "stream",
     "text": [
      "100%|█████████████████████████████████████████████████████████████████████████████████████████████████████████████████████████████████████████████████████████| 9/9 [00:00<00:00, 53.48it/s]\n"
     ]
    },
    {
     "data": {
      "image/png": "[encoded data removed]",
      "text/plain": [
       "<Figure size 432x288 with 9 Axes>"
      ]
     },
     "metadata": {
      "needs_background": "light"
     },
     "output_type": "display_data"
    }
   ],
   "source": [
    "import matplotlib.pyplot as plt\n",
    "j = 1\n",
    "\n",
    "rgb_files = glob(join(input_dataset, '*.jpg'))\n",
    "for rgb_file in tqdm(rgb_files):\n",
    "    #print(j)\n",
    "    fn = splitext(split(rgb_file)[-1])[0]\n",
    "    img = Image.open(rgb_file)\n",
    "    img = np.array(img)\n",
    "    mask = 255 * np.ones_like(img)\n",
    "    bg = np.nonzero(1 - np.prod(img <= 240, axis=-1))\n",
    "    mask[bg] = 0\n",
    "    mask = Image.fromarray(mask)\n",
    "    plt.subplot(4,4,j)\n",
    "    plt.imshow(mask)\n",
    "    j += 1\n",
    "    mask.save(join(output_dataset, fn + '.jpg'), quality=95)"
   ]
  },
  {
   "cell_type": "code",
   "execution_count": 7,
   "id": "78b42d36",
   "metadata": {},
   "outputs": [],
   "source": [
    "Output_path = cfg.Output_path\n",
    "Radius = cfg.blur_radius\n",
    "Nsample = cfg.blur_samples\n",
    "\n",
    "input_dataset = os.path.join(Output_path, \"mask\")\n",
    "output_dataset = os.path.join(Output_path, f\"processed_mask_r{Radius}_nsample{Nsample}\")\n",
    "if os.path.exists(output_dataset):\n",
    "    shutil.rmtree(output_dataset)\n",
    "os.mkdir(output_dataset)"
   ]
  },
  {
   "cell_type": "code",
   "execution_count": 8,
   "id": "72c718c4",
   "metadata": {},
   "outputs": [
    {
     "name": "stdout",
     "output_type": "stream",
     "text": [
      "../../dataset/pseudo_images/cabinet_picture_with_white_bg/mask\n",
      "../../dataset/pseudo_images/cabinet_picture_with_white_bg/processed_mask_r1_nsample20\n",
      "../../dataset/pseudo_images/cabinet_picture_with_white_bg\n"
     ]
    }
   ],
   "source": [
    "print(input_dataset)\n",
    "print(output_dataset)\n",
    "print(Output_path)"
   ]
  },
  {
   "cell_type": "code",
   "execution_count": 10,
   "id": "44b50412",
   "metadata": {},
   "outputs": [],
   "source": [
    "Batch_size = 64\n",
    "\n",
    "files = glob(os.path.join(input_dataset, \"*.jpg\"))"
   ]
  },
  {
   "cell_type": "code",
   "execution_count": 14,
   "id": "01573682",
   "metadata": {},
   "outputs": [
    {
     "ename": "OSError",
     "evalue": "libmkl_intel_lp64.so: cannot open shared object file: No such file or directory",
     "output_type": "error",
     "traceback": [
      "\u001b[0;31m---------------------------------------------------------------------------\u001b[0m",
      "\u001b[0;31mOSError\u001b[0m                                   Traceback (most recent call last)",
      "\u001b[0;32m/tmp/ipykernel_1408547/4265195184.py\u001b[0m in \u001b[0;36m<module>\u001b[0;34m\u001b[0m\n\u001b[0;32m----> 1\u001b[0;31m \u001b[0;32mimport\u001b[0m \u001b[0mtorch\u001b[0m\u001b[0;34m\u001b[0m\u001b[0;34m\u001b[0m\u001b[0m\n\u001b[0m",
      "\u001b[0;32m~/ENTER/envs/3d_groupvit/lib/python3.7/site-packages/torch/__init__.py\u001b[0m in \u001b[0;36m<module>\u001b[0;34m\u001b[0m\n\u001b[1;32m    196\u001b[0m     \u001b[0;31m# See Note [Global dependencies]\u001b[0m\u001b[0;34m\u001b[0m\u001b[0;34m\u001b[0m\u001b[0;34m\u001b[0m\u001b[0m\n\u001b[1;32m    197\u001b[0m     \u001b[0;32mif\u001b[0m \u001b[0mUSE_GLOBAL_DEPS\u001b[0m\u001b[0;34m:\u001b[0m\u001b[0;34m\u001b[0m\u001b[0;34m\u001b[0m\u001b[0m\n\u001b[0;32m--> 198\u001b[0;31m         \u001b[0m_load_global_deps\u001b[0m\u001b[0;34m(\u001b[0m\u001b[0;34m)\u001b[0m\u001b[0;34m\u001b[0m\u001b[0;34m\u001b[0m\u001b[0m\n\u001b[0m\u001b[1;32m    199\u001b[0m     \u001b[0;32mfrom\u001b[0m \u001b[0mtorch\u001b[0m\u001b[0;34m.\u001b[0m\u001b[0m_C\u001b[0m \u001b[0;32mimport\u001b[0m \u001b[0;34m*\u001b[0m  \u001b[0;31m# noqa: F403\u001b[0m\u001b[0;34m\u001b[0m\u001b[0;34m\u001b[0m\u001b[0m\n\u001b[1;32m    200\u001b[0m \u001b[0;34m\u001b[0m\u001b[0m\n",
      "\u001b[0;32m~/ENTER/envs/3d_groupvit/lib/python3.7/site-packages/torch/__init__.py\u001b[0m in \u001b[0;36m_load_global_deps\u001b[0;34m()\u001b[0m\n\u001b[1;32m    149\u001b[0m     \u001b[0mlib_path\u001b[0m \u001b[0;34m=\u001b[0m \u001b[0mos\u001b[0m\u001b[0;34m.\u001b[0m\u001b[0mpath\u001b[0m\u001b[0;34m.\u001b[0m\u001b[0mjoin\u001b[0m\u001b[0;34m(\u001b[0m\u001b[0mos\u001b[0m\u001b[0;34m.\u001b[0m\u001b[0mpath\u001b[0m\u001b[0;34m.\u001b[0m\u001b[0mdirname\u001b[0m\u001b[0;34m(\u001b[0m\u001b[0mhere\u001b[0m\u001b[0;34m)\u001b[0m\u001b[0;34m,\u001b[0m \u001b[0;34m'lib'\u001b[0m\u001b[0;34m,\u001b[0m \u001b[0mlib_name\u001b[0m\u001b[0;34m)\u001b[0m\u001b[0;34m\u001b[0m\u001b[0;34m\u001b[0m\u001b[0m\n\u001b[1;32m    150\u001b[0m \u001b[0;34m\u001b[0m\u001b[0m\n\u001b[0;32m--> 151\u001b[0;31m     \u001b[0mctypes\u001b[0m\u001b[0;34m.\u001b[0m\u001b[0mCDLL\u001b[0m\u001b[0;34m(\u001b[0m\u001b[0mlib_path\u001b[0m\u001b[0;34m,\u001b[0m \u001b[0mmode\u001b[0m\u001b[0;34m=\u001b[0m\u001b[0mctypes\u001b[0m\u001b[0;34m.\u001b[0m\u001b[0mRTLD_GLOBAL\u001b[0m\u001b[0;34m)\u001b[0m\u001b[0;34m\u001b[0m\u001b[0;34m\u001b[0m\u001b[0m\n\u001b[0m\u001b[1;32m    152\u001b[0m \u001b[0;34m\u001b[0m\u001b[0m\n\u001b[1;32m    153\u001b[0m \u001b[0;34m\u001b[0m\u001b[0m\n",
      "\u001b[0;32m~/ENTER/envs/3d_groupvit/lib/python3.7/ctypes/__init__.py\u001b[0m in \u001b[0;36m__init__\u001b[0;34m(self, name, mode, handle, use_errno, use_last_error)\u001b[0m\n\u001b[1;32m    362\u001b[0m \u001b[0;34m\u001b[0m\u001b[0m\n\u001b[1;32m    363\u001b[0m         \u001b[0;32mif\u001b[0m \u001b[0mhandle\u001b[0m \u001b[0;32mis\u001b[0m \u001b[0;32mNone\u001b[0m\u001b[0;34m:\u001b[0m\u001b[0;34m\u001b[0m\u001b[0;34m\u001b[0m\u001b[0m\n\u001b[0;32m--> 364\u001b[0;31m             \u001b[0mself\u001b[0m\u001b[0;34m.\u001b[0m\u001b[0m_handle\u001b[0m \u001b[0;34m=\u001b[0m \u001b[0m_dlopen\u001b[0m\u001b[0;34m(\u001b[0m\u001b[0mself\u001b[0m\u001b[0;34m.\u001b[0m\u001b[0m_name\u001b[0m\u001b[0;34m,\u001b[0m \u001b[0mmode\u001b[0m\u001b[0;34m)\u001b[0m\u001b[0;34m\u001b[0m\u001b[0;34m\u001b[0m\u001b[0m\n\u001b[0m\u001b[1;32m    365\u001b[0m         \u001b[0;32melse\u001b[0m\u001b[0;34m:\u001b[0m\u001b[0;34m\u001b[0m\u001b[0;34m\u001b[0m\u001b[0m\n\u001b[1;32m    366\u001b[0m             \u001b[0mself\u001b[0m\u001b[0;34m.\u001b[0m\u001b[0m_handle\u001b[0m \u001b[0;34m=\u001b[0m \u001b[0mhandle\u001b[0m\u001b[0;34m\u001b[0m\u001b[0;34m\u001b[0m\u001b[0m\n",
      "\u001b[0;31mOSError\u001b[0m: libmkl_intel_lp64.so: cannot open shared object file: No such file or directory"
     ]
    }
   ],
   "source": [
    "import torch"
   ]
  },
  {
   "cell_type": "code",
   "execution_count": null,
   "id": "8b45d422",
   "metadata": {},
   "outputs": [],
   "source": [
    "images = np.stack([np.array(Image.open(fn)) for fn in tqdm(files)])\n",
    "images[images < 127] = 0\n",
    "images[images >= 128] = 255\n",
    "images = torch.from_numpy(images).cuda()\n",
    "start = time()\n",
    "masks = []\n",
    "for i in trange(len(images) // Batch_size + 1):\n",
    "    batch = images[i * Batch_size: min((i+1) * Batch_size, len(images))]\n",
    "    masks.append(Pixel2Mask(radius=Radius, nsample=Nsample)(batch, 256))"
   ]
  },
  {
   "cell_type": "code",
   "execution_count": null,
   "id": "b7477a4c",
   "metadata": {},
   "outputs": [],
   "source": []
  }
 ],
 "metadata": {
  "kernelspec": {
   "display_name": "Python 3 (ipykernel)",
   "language": "python",
   "name": "python3"
  },
  "language_info": {
   "codemirror_mode": {
    "name": "ipython",
    "version": 3
   },
   "file_extension": ".py",
   "mimetype": "text/x-python",
   "name": "python",
   "nbconvert_exporter": "python",
   "pygments_lexer": "ipython3",
   "version": "3.7.12"
  }
 },
 "nbformat": 4,
 "nbformat_minor": 5
}
